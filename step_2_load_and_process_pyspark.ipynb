{
 "cells": [
  {
   "cell_type": "markdown",
   "metadata": {},
   "source": [
    "Import packages"
   ]
  },
  {
   "cell_type": "code",
   "execution_count": 1,
   "metadata": {},
   "outputs": [],
   "source": [
    "from pyspark.sql import SparkSession\n",
    "from pyspark.sql.types import StructType, StructField, StringType, IntegerType, FloatType, BooleanType, TimestampType\n",
    "from pyspark.sql.functions import col, from_unixtime, when, trim, lit, to_date"
   ]
  },
  {
   "cell_type": "markdown",
   "metadata": {},
   "source": [
    "Start spark session"
   ]
  },
  {
   "cell_type": "code",
   "execution_count": 2,
   "metadata": {},
   "outputs": [],
   "source": [
    "spark_session = (SparkSession.builder\n",
    "                    .master('local[*]')\n",
    "                    .config(\"spark.executor.memory\", \"8g\")\n",
    "                    .config(\"spark.driver.memory\", \"4g\")\n",
    "                    .appName('test app')\n",
    "                    .getOrCreate())   "
   ]
  },
  {
   "cell_type": "markdown",
   "metadata": {},
   "source": [
    "Load the data from csv"
   ]
  },
  {
   "cell_type": "code",
   "execution_count": 3,
   "metadata": {},
   "outputs": [],
   "source": [
    "schema = StructType([\n",
    "    StructField(\"recommendationid\", IntegerType(), True),\n",
    "    StructField(\"appid\", IntegerType(), True),\n",
    "    StructField(\"game\", StringType(), True),\n",
    "    StructField(\"author_steamid\", StringType(), True),\n",
    "    StructField(\"author_num_games_owned\", IntegerType(), True),\n",
    "    StructField(\"author_num_reviews\", IntegerType(), True),\n",
    "    StructField(\"author_playtime_forever\", IntegerType(), True),\n",
    "    StructField(\"author_playtime_last_two_weeks\", IntegerType(), True),\n",
    "    StructField(\"author_playtime_at_review\", IntegerType(), True),\n",
    "    StructField(\"author_last_played\", IntegerType(), True),\n",
    "    StructField(\"language\", StringType(), True),\n",
    "    StructField(\"review\", StringType(), True),\n",
    "    StructField(\"timestamp_created\", IntegerType(), True),\n",
    "    StructField(\"timestamp_updated\", IntegerType(), True),\n",
    "    StructField(\"voted_up\", IntegerType(), True),\n",
    "    StructField(\"votes_up\", IntegerType(), True),\n",
    "    StructField(\"votes_funny\", IntegerType(), True),\n",
    "    StructField(\"weighted_vote_score\", FloatType(), True),\n",
    "    StructField(\"comment_count\", IntegerType(), True),\n",
    "    StructField(\"steam_purchase\", IntegerType(), True),\n",
    "    StructField(\"received_for_free\", IntegerType(), True),\n",
    "    StructField(\"written_during_early_access\", IntegerType(), True),\n",
    "    StructField(\"hidden_in_steam_china\", IntegerType(), True),\n",
    "    StructField(\"steam_china_location\", StringType(), True)\n",
    "])"
   ]
  },
  {
   "cell_type": "code",
   "execution_count": 4,
   "metadata": {},
   "outputs": [
    {
     "name": "stdout",
     "output_type": "stream",
     "text": [
      "root\n",
      " |-- recommendationid: integer (nullable = true)\n",
      " |-- appid: integer (nullable = true)\n",
      " |-- game: string (nullable = true)\n",
      " |-- author_steamid: string (nullable = true)\n",
      " |-- author_num_games_owned: integer (nullable = true)\n",
      " |-- author_num_reviews: integer (nullable = true)\n",
      " |-- author_playtime_forever: integer (nullable = true)\n",
      " |-- author_playtime_last_two_weeks: integer (nullable = true)\n",
      " |-- author_playtime_at_review: integer (nullable = true)\n",
      " |-- author_last_played: integer (nullable = true)\n",
      " |-- language: string (nullable = true)\n",
      " |-- review: string (nullable = true)\n",
      " |-- timestamp_created: integer (nullable = true)\n",
      " |-- timestamp_updated: integer (nullable = true)\n",
      " |-- voted_up: integer (nullable = true)\n",
      " |-- votes_up: integer (nullable = true)\n",
      " |-- votes_funny: integer (nullable = true)\n",
      " |-- weighted_vote_score: float (nullable = true)\n",
      " |-- comment_count: integer (nullable = true)\n",
      " |-- steam_purchase: integer (nullable = true)\n",
      " |-- received_for_free: integer (nullable = true)\n",
      " |-- written_during_early_access: integer (nullable = true)\n",
      " |-- hidden_in_steam_china: integer (nullable = true)\n",
      " |-- steam_china_location: string (nullable = true)\n",
      "\n"
     ]
    }
   ],
   "source": [
    "df = spark_session.read.csv(\n",
    "    \"reviews/reviews.csv\",\n",
    "    header=True,\n",
    "    schema=schema\n",
    ")\n",
    "\n",
    "df.printSchema()"
   ]
  },
  {
   "cell_type": "code",
   "execution_count": 14,
   "metadata": {},
   "outputs": [
    {
     "name": "stdout",
     "output_type": "stream",
     "text": [
      "+----------------+-----+--------------+-----------------+----------------------+------------------+-----------------------+------------------------------+-------------------------+------------------+---------+----------------------------------+-----------------+-----------------+----------+--------+-----------+-------------------+-------------+--------------+-----------------+---------------------------+---------------------+--------------------+\n",
      "|recommendationid|appid|          game|   author_steamid|author_num_games_owned|author_num_reviews|author_playtime_forever|author_playtime_last_two_weeks|author_playtime_at_review|author_last_played| language|                            review|timestamp_created|timestamp_updated|  voted_up|votes_up|votes_funny|weighted_vote_score|comment_count|steam_purchase|received_for_free|written_during_early_access|hidden_in_steam_china|steam_china_location|\n",
      "+----------------+-----+--------------+-----------------+----------------------+------------------+-----------------------+------------------------------+-------------------------+------------------+---------+----------------------------------+-----------------+-----------------+----------+--------+-----------+-------------------+-------------+--------------+-----------------+---------------------------+---------------------+--------------------+\n",
      "|       148919893|   10|Counter-Strike|76561199036724879|                     0|                 3|                    197|                           197|                      197|        1698336369|  russian|                          старость|       1698336397|       1698336397|         1|       0|          0|                0.0|            0|             1|                0|                          0|                    1|                NULL|\n",
      "|       148919350|   10|Counter-Strike|76561198826729322|                     0|                21|                    441|                            37|                      441|        1698335809|  russian|                        Лучше кс 2|       1698335821|       1698335821|         1|       0|          0|                0.0|            0|             1|                0|                          0|                    1|                NULL|\n",
      "|       148913051|   10|Counter-Strike|76561199101237625|                     7|                 1|                   1440|                          1440|                     1313|        1698338635|  turkish|                çoh iyi ama pahalı|       1698329862|       1698329862|         1|       0|          0|                0.0|            0|             1|                0|                          0|                    1|                NULL|\n",
      "|       148912714|   10|Counter-Strike|76561198347582422|                    11|                 4|                   1636|                            83|                     1612|        1698341834|  russian|                               топ|       1698329555|       1698329555|         1|       0|          0|                0.0|            0|             1|                0|                          0|                    1|                NULL|\n",
      "|       148912575|   10|Counter-Strike|76561198363716821|                     0|                 2|                    197|                            41|                      197|        1698329401|  english|                      GOAT Game !!|       1698329419|       1698329419|         1|       0|          0|                0.0|            0|             1|                0|                          0|                    1|                NULL|\n",
      "|       148906148|   10|Counter-Strike|76561198198293481|                    22|                 2|                   1685|                            70|                     1649|        1698323046|  russian|                               топ|       1698321840|       1698321840|         1|       0|          0|                0.0|            0|             1|                0|                          0|                    1|                NULL|\n",
      "|       148905699|   10|Counter-Strike|76561198820122182|                    88|                39|                     11|                             0|                       11|        1695752100|  turkish|              eskisi kadar sarm...|       1698321259|       1698321259|         1|       0|          0|                0.0|            0|             0|                0|                          0|                    1|                NULL|\n",
      "|       148900627|   10|Counter-Strike|76561198346217916|                     0|                 2|                  45119|                           503|                    45119|        1698157431|  russian|                         Идеальная|       1698314419|       1698314419|         1|       0|          0|                0.0|            0|             1|                0|                          0|                    1|                NULL|\n",
      "|       148899121|   10|Counter-Strike|76561199143791757|                     9|                 4|                   1271|                           973|                     1202|        1698338304|  russian|                               топ|       1698312060|       1698312060|         1|       0|          0|                0.0|            0|             1|                0|                          0|                    1|                NULL|\n",
      "|       148898785|   10|Counter-Strike|76561198853145449|                   491|                60|                    721|                             0|                      721|        1660831719| schinese|史上最优秀的fps游戏，众多国产游...|       1698311451|       1698311451|         1|       0|          0|                0.0|            0|             1|                0|                          0|                    1|                NULL|\n",
      "|       148895540|   10|Counter-Strike|76561198134752176|                    69|                 1|                  12107|                             0|                    12107|        1670487891|  english|              First crush. Alwa...|       1698306096|       1698306096|         1|       0|          0|                0.0|            0|             0|                0|                          0|                    1|                NULL|\n",
      "|       148895230|   10|Counter-Strike|76561197985437504|                     0|                 5|                  42519|                             3|                    42515|        1698305811|  english|              best version of c...|       1698305569|       1698305569|         1|       0|          0|                0.0|            0|             0|                0|                          0|                    1|                NULL|\n",
      "|       148890174|   10|Counter-Strike|76561199240943468|                     0|                 3|                   6543|                           221|                     6322|        1698309444|  spanish|                  Simplemente Joya|       1698295972|       1698295972|         1|       0|          0|                0.0|            0|             1|                0|                          0|                    1|                NULL|\n",
      "|       148886265|   10|Counter-Strike|76561199019766609|                    52|                 1|                  25944|                           449|                    25944|        1697507624|    latam|              \"No sé que cosa d...|             NULL|       1698288485|1698288485|       1|          0|                0.0|         NULL|             0|                0|                          1|                    0|                   1|\n",
      "|       148886126|   10|Counter-Strike|76561199549732430|                     0|                 2|                   7818|                          2968|                     7704|        1698294323|  spanish|              2023 y esto sigue...|       1698288275|       1698288275|         1|       0|          0|                0.0|            0|             1|                0|                          0|                    1|                NULL|\n",
      "|       148885183|   10|Counter-Strike|76561199108663568|                     0|                 1|                    317|                           306|                      278|        1698331093|    latam|              es un juegaso lit...|       1698286648|       1698286648|         1|       0|          0|                0.0|            0|             1|                0|                          0|                    1|                NULL|\n",
      "|       148882186|   10|Counter-Strike|76561198017029769|                     8|                 1|                     89|                            12|                       77|        1698282734|brazilian|                               top|       1698281414|       1698281414|         1|       0|          0|                0.0|            0|             0|                1|                          0|                    1|                NULL|\n",
      "|       148881526|   10|Counter-Strike|76561199090138342|                    49|                31|                    141|                            25|                      115|        1698282241| schinese|           cs2不好玩 以后就玩1.6了|       1698280257|       1698280257|         1|       0|          0|                0.0|            0|             1|                0|                          0|                    1|                NULL|\n",
      "|       148875516|   10|Counter-Strike|76561198125709322|                     0|                 1|                   5684|                            66|                     5617|        1698324019|  spanish|              El mejor juego de...|       1698270350|       1698270350|         1|       0|          0|                0.0|            0|             1|                0|                          0|                    1|                NULL|\n",
      "|       148872044|   10|Counter-Strike|76561199472918507|                     0|                 1|                   1762|                          1753|                     1674|        1698334424|  russian|                    Я Люблю Кс 1.6|       1698265715|       1698265715|         1|       0|          0|                0.0|            0|             1|                0|                          0|                    1|                NULL|\n",
      "+----------------+-----+--------------+-----------------+----------------------+------------------+-----------------------+------------------------------+-------------------------+------------------+---------+----------------------------------+-----------------+-----------------+----------+--------+-----------+-------------------+-------------+--------------+-----------------+---------------------------+---------------------+--------------------+\n",
      "only showing top 20 rows\n",
      "\n"
     ]
    }
   ],
   "source": [
    "df.show()"
   ]
  },
  {
   "cell_type": "code",
   "execution_count": 5,
   "metadata": {},
   "outputs": [],
   "source": [
    "# Ids\n",
    "COL_RECOMMENDATION_ID = \"recommendation_id\"\n",
    "COL_APP_ID = \"app_id\"\n",
    "COL_AUTHOR_STEAM_ID = \"author_steam_id\" \n",
    "\n",
    "# Game\n",
    "COL_GAME_TITLE = \"game_title\"\n",
    "\n",
    "# Author\n",
    "COL_AUTHOR_NUM_GAMES = \"author_num_games_owned\"\n",
    "COL_AUTHOR_NUM_REVIEWS = \"author_num_reviews\"\n",
    "COL_AUTHOR_PLAYTIME_LIFETIME = \"author_playtime_lifetime\" # lifetime playtime tracked in game (originaly in minutes, later converted to hours)\n",
    "COL_AUTHOR_PLAYTIME_LAST_TWO_WEEKS = \"author_playtime_last_two_weeks\" # playtime tracked in the past two weeks for this game (holds no useful information, will drop)\n",
    "COL_AUTHOR_PLAYTIME_AT_REVIEW = \"author_playtime_at_review\" # playtime when the review was written (originaly in minutes, later converted to hours)\n",
    "COL_AUTHOR_LAST_PLAYED = \"author_last_played\"\n",
    "\n",
    "AUTHOR_COLUMNS = [COL_AUTHOR_NUM_GAMES, COL_AUTHOR_NUM_REVIEWS, COL_AUTHOR_PLAYTIME_LIFETIME, COL_AUTHOR_PLAYTIME_AT_REVIEW, COL_AUTHOR_LAST_PLAYED]\n",
    "\n",
    "# Review details\n",
    "COL_LANGUAGE = \"language\"\n",
    "COL_REVIEW = \"review\" # review text\n",
    "COL_CREATED_AT = \"created_at\"\n",
    "COL_UPDATED_AT = \"updated_at\"\n",
    "COL_IS_VOTED_UP = \"is_voted_up\" # if the review was positive or negative\n",
    "\n",
    "REVIEW_DETAILS_COLUMNS = [COL_LANGUAGE, COL_REVIEW, COL_CREATED_AT, COL_UPDATED_AT, COL_IS_VOTED_UP]\n",
    "\n",
    "# Players response to the review\n",
    "COL_NUM_VOTES_UP = \"num_votes_up\" # number of people who voted the review up\n",
    "COL_NUM_VOTES_FUNNY = \"num_votes_funny\" # number of people who voted the review funny\n",
    "COL_WEIGHTED_VOTE_SCORE = \"weighted_vote_score\" # a helpfulness score (steam generated)\n",
    "COL_NUM_COMMENTS = \"num_comment\" # number of comments to the review\n",
    "\n",
    "PLAYERS_RESPONSE_COLUMNS = [COL_NUM_VOTES_UP, COL_NUM_VOTES_FUNNY, COL_WEIGHTED_VOTE_SCORE, COL_NUM_COMMENTS]\n",
    "\n",
    "# Game state at a time of the review\n",
    "COL_IS_PURCHASED = \"is_purchased\" # if the user purchased the game on Steam\n",
    "COL_IS_RECEIVED_FOR_FREE = \"is_received_for_free\" # true if the user checked a box saying they got the app for free\n",
    "COL_IS_WRITTEN_DURING_EARLY_ACCESS = \"is_written_during_early_access\" # if the user posted this review while the game was in Early Access\n",
    "\n",
    "PURCHASE_STATE_COLUMNS = [COL_IS_PURCHASED, COL_IS_RECEIVED_FOR_FREE, COL_IS_WRITTEN_DURING_EARLY_ACCESS]\n",
    "\n",
    "# Ching chong\n",
    "COL_IS_HIDDEN_IN_CHINA = \"is_hidden_in_china\"\n",
    "COL_CHINA_LOCATION = \"china_location\" # ??? no idea; only 1 in 0.5 million rows has a value, will delete\n",
    "\n",
    "rename_dict = {\n",
    "    \"recommendationid\": COL_RECOMMENDATION_ID,\n",
    "    \"appid\": COL_APP_ID,\n",
    "    \"game\": COL_GAME_TITLE,\n",
    "    \"author_steamid\": COL_AUTHOR_STEAM_ID,\n",
    "    \"author_num_games_owned\": COL_AUTHOR_NUM_GAMES,\n",
    "    \"author_num_reviews\": COL_AUTHOR_NUM_REVIEWS,\n",
    "    \"author_playtime_forever\": COL_AUTHOR_PLAYTIME_LIFETIME,\n",
    "    \"author_playtime_last_two_weeks\": COL_AUTHOR_PLAYTIME_LAST_TWO_WEEKS,\n",
    "    \"author_playtime_at_review\": COL_AUTHOR_PLAYTIME_AT_REVIEW,\n",
    "    \"author_last_played\": COL_AUTHOR_LAST_PLAYED,\n",
    "    \"language\": COL_LANGUAGE,\n",
    "    \"review\": COL_REVIEW,\n",
    "    \"timestamp_created\": COL_CREATED_AT,\n",
    "    \"timestamp_updated\": COL_UPDATED_AT,\n",
    "    \"voted_up\": COL_IS_VOTED_UP,\n",
    "    \"votes_up\": COL_NUM_VOTES_UP,\n",
    "    \"votes_funny\": COL_NUM_VOTES_FUNNY,\n",
    "    \"weighted_vote_score\": COL_WEIGHTED_VOTE_SCORE,\n",
    "    \"comment_count\": COL_NUM_COMMENTS,\n",
    "    \"steam_purchase\": COL_IS_PURCHASED,\n",
    "    \"received_for_free\": COL_IS_RECEIVED_FOR_FREE,\n",
    "    \"written_during_early_access\": COL_IS_WRITTEN_DURING_EARLY_ACCESS,\n",
    "    \"hidden_in_steam_china\": COL_IS_HIDDEN_IN_CHINA,\n",
    "    \"steam_china_location\": COL_CHINA_LOCATION,\n",
    "}"
   ]
  },
  {
   "cell_type": "markdown",
   "metadata": {},
   "source": [
    "Rename and drop"
   ]
  },
  {
   "cell_type": "code",
   "execution_count": 6,
   "metadata": {},
   "outputs": [],
   "source": [
    "for old_name, new_name in rename_dict.items():\n",
    "    df = df.withColumnRenamed(old_name, new_name)\n",
    "    \n",
    "df = df.drop(COL_IS_HIDDEN_IN_CHINA, COL_CHINA_LOCATION, COL_AUTHOR_PLAYTIME_LAST_TWO_WEEKS)"
   ]
  },
  {
   "cell_type": "markdown",
   "metadata": {},
   "source": [
    "Cast to correct data types"
   ]
  },
  {
   "cell_type": "code",
   "execution_count": 7,
   "metadata": {},
   "outputs": [],
   "source": [
    "df = df \\\n",
    "    .withColumn(COL_IS_PURCHASED, col(COL_IS_PURCHASED).cast(BooleanType())) \\\n",
    "    .withColumn(COL_IS_RECEIVED_FOR_FREE, col(COL_IS_RECEIVED_FOR_FREE).cast(BooleanType())) \\\n",
    "    .withColumn(COL_IS_WRITTEN_DURING_EARLY_ACCESS, col(COL_IS_WRITTEN_DURING_EARLY_ACCESS).cast(BooleanType())) \\\n",
    "    .withColumn(COL_IS_VOTED_UP, col(COL_IS_VOTED_UP).cast(BooleanType()))"
   ]
  },
  {
   "cell_type": "markdown",
   "metadata": {},
   "source": [
    "Convert minutes to hours"
   ]
  },
  {
   "cell_type": "code",
   "execution_count": 8,
   "metadata": {},
   "outputs": [],
   "source": [
    "playtime_columns = [\n",
    "    COL_AUTHOR_PLAYTIME_LIFETIME, \n",
    "    COL_AUTHOR_PLAYTIME_AT_REVIEW,\n",
    "]\n",
    "\n",
    "for playtime_col in playtime_columns:\n",
    "    df = df.withColumn(playtime_col, (col(playtime_col) / 60).cast(FloatType()))"
   ]
  },
  {
   "cell_type": "markdown",
   "metadata": {},
   "source": [
    "Convert timestamp to date"
   ]
  },
  {
   "cell_type": "code",
   "execution_count": 9,
   "metadata": {},
   "outputs": [],
   "source": [
    "timestamp_columns = [\n",
    "    COL_AUTHOR_LAST_PLAYED, \n",
    "    COL_UPDATED_AT, \n",
    "    COL_CREATED_AT,\n",
    "]\n",
    "\n",
    "for timestamp_col in timestamp_columns:\n",
    "    df = df.withColumn(timestamp_col, from_unixtime(col(timestamp_col)).cast(TimestampType()))"
   ]
  },
  {
   "cell_type": "code",
   "execution_count": 20,
   "metadata": {},
   "outputs": [
    {
     "name": "stdout",
     "output_type": "stream",
     "text": [
      "+-----------------+------+--------------+-----------------+----------------------+------------------+------------------------+-------------------------+-------------------+---------+----------------------------------+-------------------+-------------------+-----------+------------+---------------+-------------------+-----------+------------+--------------------+------------------------------+\n",
      "|recommendation_id|app_id|    game_title|  author_steam_id|author_num_games_owned|author_num_reviews|author_playtime_lifetime|author_playtime_at_review| author_last_played| language|                            review|         created_at|         updated_at|is_voted_up|num_votes_up|num_votes_funny|weighted_vote_score|num_comment|is_purchased|is_received_for_free|is_written_during_early_access|\n",
      "+-----------------+------+--------------+-----------------+----------------------+------------------+------------------------+-------------------------+-------------------+---------+----------------------------------+-------------------+-------------------+-----------+------------+---------------+-------------------+-----------+------------+--------------------+------------------------------+\n",
      "|        148919893|    10|Counter-Strike|76561199036724879|                     0|                 3|               3.2833333|                3.2833333|2023-10-26 19:06:09|  russian|                          старость|2023-10-26 19:06:37|2023-10-26 19:06:37|       true|           0|              0|                0.0|          0|        true|               false|                         false|\n",
      "|        148919350|    10|Counter-Strike|76561198826729322|                     0|                21|                    7.35|                     7.35|2023-10-26 18:56:49|  russian|                        Лучше кс 2|2023-10-26 18:57:01|2023-10-26 18:57:01|       true|           0|              0|                0.0|          0|        true|               false|                         false|\n",
      "|        148913051|    10|Counter-Strike|76561199101237625|                     7|                 1|                    24.0|                21.883333|2023-10-26 19:43:55|  turkish|                çoh iyi ama pahalı|2023-10-26 17:17:42|2023-10-26 17:17:42|       true|           0|              0|                0.0|          0|        true|               false|                         false|\n",
      "|        148912714|    10|Counter-Strike|76561198347582422|                    11|                 4|               27.266666|                26.866667|2023-10-26 20:37:14|  russian|                               топ|2023-10-26 17:12:35|2023-10-26 17:12:35|       true|           0|              0|                0.0|          0|        true|               false|                         false|\n",
      "|        148912575|    10|Counter-Strike|76561198363716821|                     0|                 2|               3.2833333|                3.2833333|2023-10-26 17:10:01|  english|                      GOAT Game !!|2023-10-26 17:10:19|2023-10-26 17:10:19|       true|           0|              0|                0.0|          0|        true|               false|                         false|\n",
      "|        148906148|    10|Counter-Strike|76561198198293481|                    22|                 2|               28.083334|                27.483334|2023-10-26 15:24:06|  russian|                               топ|2023-10-26 15:04:00|2023-10-26 15:04:00|       true|           0|              0|                0.0|          0|        true|               false|                         false|\n",
      "|        148905699|    10|Counter-Strike|76561198820122182|                    88|                39|              0.18333334|               0.18333334|2023-09-26 21:15:00|  turkish|              eskisi kadar sarm...|2023-10-26 14:54:19|2023-10-26 14:54:19|       true|           0|              0|                0.0|          0|       false|               false|                         false|\n",
      "|        148900627|    10|Counter-Strike|76561198346217916|                     0|                 2|               751.98334|                751.98334|2023-10-24 17:23:51|  russian|                         Идеальная|2023-10-26 13:00:19|2023-10-26 13:00:19|       true|           0|              0|                0.0|          0|        true|               false|                         false|\n",
      "|        148899121|    10|Counter-Strike|76561199143791757|                     9|                 4|               21.183332|                20.033333|2023-10-26 19:38:24|  russian|                               топ|2023-10-26 12:21:00|2023-10-26 12:21:00|       true|           0|              0|                0.0|          0|        true|               false|                         false|\n",
      "|        148898785|    10|Counter-Strike|76561198853145449|                   491|                60|               12.016666|                12.016666|2022-08-18 17:08:39| schinese|史上最优秀的fps游戏，众多国产游...|2023-10-26 12:10:51|2023-10-26 12:10:51|       true|           0|              0|                0.0|          0|        true|               false|                         false|\n",
      "|        148895540|    10|Counter-Strike|76561198134752176|                    69|                 1|               201.78334|                201.78334|2022-12-08 10:24:51|  english|              First crush. Alwa...|2023-10-26 10:41:36|2023-10-26 10:41:36|       true|           0|              0|                0.0|          0|       false|               false|                         false|\n",
      "|        148895230|    10|Counter-Strike|76561197985437504|                     0|                 5|                  708.65|                 708.5833|2023-10-26 10:36:51|  english|              best version of c...|2023-10-26 10:32:49|2023-10-26 10:32:49|       true|           0|              0|                0.0|          0|       false|               false|                         false|\n",
      "|        148890174|    10|Counter-Strike|76561199240943468|                     0|                 3|                  109.05|                105.36667|2023-10-26 11:37:24|  spanish|                  Simplemente Joya|2023-10-26 07:52:52|2023-10-26 07:52:52|       true|           0|              0|                0.0|          0|        true|               false|                         false|\n",
      "|        148886265|    10|Counter-Strike|76561199019766609|                    52|                 1|                   432.4|                    432.4|2023-10-17 04:53:44|    latam|              \"No sé que cosa d...|               NULL|2023-10-26 05:48:05|       true|           1|              0|                0.0|       NULL|       false|               false|                          true|\n",
      "|        148886126|    10|Counter-Strike|76561199549732430|                     0|                 2|                   130.3|                    128.4|2023-10-26 07:25:23|  spanish|              2023 y esto sigue...|2023-10-26 05:44:35|2023-10-26 05:44:35|       true|           0|              0|                0.0|          0|        true|               false|                         false|\n",
      "|        148885183|    10|Counter-Strike|76561199108663568|                     0|                 1|               5.2833333|                 4.633333|2023-10-26 17:38:13|    latam|              es un juegaso lit...|2023-10-26 05:17:28|2023-10-26 05:17:28|       true|           0|              0|                0.0|          0|        true|               false|                         false|\n",
      "|        148882186|    10|Counter-Strike|76561198017029769|                     8|                 1|               1.4833333|                1.2833333|2023-10-26 04:12:14|brazilian|                               top|2023-10-26 03:50:14|2023-10-26 03:50:14|       true|           0|              0|                0.0|          0|       false|                true|                         false|\n",
      "|        148881526|    10|Counter-Strike|76561199090138342|                    49|                31|                    2.35|                1.9166666|2023-10-26 04:04:01| schinese|           cs2不好玩 以后就玩1.6了|2023-10-26 03:30:57|2023-10-26 03:30:57|       true|           0|              0|                0.0|          0|        true|               false|                         false|\n",
      "|        148875516|    10|Counter-Strike|76561198125709322|                     0|                 1|                94.73333|                 93.61667|2023-10-26 15:40:19|  spanish|              El mejor juego de...|2023-10-26 00:45:50|2023-10-26 00:45:50|       true|           0|              0|                0.0|          0|        true|               false|                         false|\n",
      "|        148872044|    10|Counter-Strike|76561199472918507|                     0|                 1|               29.366667|                     27.9|2023-10-26 18:33:44|  russian|                    Я Люблю Кс 1.6|2023-10-25 23:28:35|2023-10-25 23:28:35|       true|           0|              0|                0.0|          0|        true|               false|                         false|\n",
      "+-----------------+------+--------------+-----------------+----------------------+------------------+------------------------+-------------------------+-------------------+---------+----------------------------------+-------------------+-------------------+-----------+------------+---------------+-------------------+-----------+------------+--------------------+------------------------------+\n",
      "only showing top 20 rows\n",
      "\n"
     ]
    }
   ],
   "source": [
    "df.show()"
   ]
  },
  {
   "cell_type": "markdown",
   "metadata": {},
   "source": [
    "Filter out unreasonable data"
   ]
  },
  {
   "cell_type": "code",
   "execution_count": 10,
   "metadata": {},
   "outputs": [],
   "source": [
    "unreasonably_funny_comments = col(COL_NUM_VOTES_FUNNY) > 10000000\n",
    "\n",
    "df = (df\n",
    "    .filter(col(COL_CREATED_AT) <= col(COL_UPDATED_AT))\n",
    "    .filter(~unreasonably_funny_comments)\n",
    "    .withColumn(COL_REVIEW, when(col(COL_REVIEW).isNull(), \"\").otherwise(trim(col(COL_REVIEW))))\n",
    "    )"
   ]
  },
  {
   "cell_type": "markdown",
   "metadata": {},
   "source": [
    "Filter out dates prior to steam release"
   ]
  },
  {
   "cell_type": "code",
   "execution_count": null,
   "metadata": {},
   "outputs": [],
   "source": [
    "# Define the Steam release date\n",
    "steam_release_date = to_date(lit(\"2003-09-12\"))\n",
    "\n",
    "# Identify missing values for last played\n",
    "missing_values_for_last_played = col(COL_AUTHOR_LAST_PLAYED) < steam_release_date\n",
    "\n",
    "# Played the game but missing last played\n",
    "played_the_game_missing_values = missing_values_for_last_played & (col(COL_AUTHOR_PLAYTIME_LIFETIME) > 0)\n",
    "\n",
    "# Never played the game\n",
    "never_played_the_game = missing_values_for_last_played & (col(COL_AUTHOR_PLAYTIME_LIFETIME) <= 0)\n",
    "\n",
    "# Keep rows that are either not missing last played or never played the game\n",
    "df = df.filter(~missing_values_for_last_played | (col(COL_AUTHOR_PLAYTIME_LIFETIME) <= 0))\n",
    "\n",
    "# Set `author_last_played` to null for rows that never played the game\n",
    "df = df.withColumn(COL_AUTHOR_LAST_PLAYED, when(never_played_the_game, None).otherwise(col(COL_AUTHOR_LAST_PLAYED)))\n",
    "\n",
    "# filter out created at before the release date\n",
    "df = df.filter(col(COL_CREATED_AT) >= steam_release_date)"
   ]
  },
  {
   "cell_type": "markdown",
   "metadata": {},
   "source": [
    "Drop NULL"
   ]
  },
  {
   "cell_type": "code",
   "execution_count": 12,
   "metadata": {},
   "outputs": [],
   "source": [
    "df = df.dropna(subset=COL_GAME_TITLE)"
   ]
  },
  {
   "cell_type": "markdown",
   "metadata": {},
   "source": [
    "Save to parquet"
   ]
  },
  {
   "cell_type": "code",
   "execution_count": 13,
   "metadata": {},
   "outputs": [],
   "source": [
    "output_path = \"reviews.parquet\"\n",
    "\n",
    "df.write.mode(\"overwrite\").parquet(output_path)"
   ]
  }
 ],
 "metadata": {
  "kernelspec": {
   "display_name": "Python 3",
   "language": "python",
   "name": "python3"
  },
  "language_info": {
   "codemirror_mode": {
    "name": "ipython",
    "version": 3
   },
   "file_extension": ".py",
   "mimetype": "text/x-python",
   "name": "python",
   "nbconvert_exporter": "python",
   "pygments_lexer": "ipython3",
   "version": "3.10.7"
  }
 },
 "nbformat": 4,
 "nbformat_minor": 2
}
